{
  "nbformat": 4,
  "nbformat_minor": 0,
  "metadata": {
    "colab": {
      "name": "Bandits.ipynb",
      "provenance": [],
      "collapsed_sections": [],
      "authorship_tag": "ABX9TyNTuVvSepu9w8rgzZLGSYLv",
      "include_colab_link": true
    },
    "kernelspec": {
      "name": "python3",
      "display_name": "Python 3"
    }
  },
  "cells": [
    {
      "cell_type": "markdown",
      "metadata": {
        "id": "view-in-github",
        "colab_type": "text"
      },
      "source": [
        "<a href=\"https://colab.research.google.com/github/MariumAZ/DeepLab/blob/master/Bandits.ipynb\" target=\"_parent\"><img src=\"https://colab.research.google.com/assets/colab-badge.svg\" alt=\"Open In Colab\"/></a>"
      ]
    },
    {
      "cell_type": "markdown",
      "metadata": {
        "id": "tQLTJt2csuUx",
        "colab_type": "text"
      },
      "source": [
        "This notebook was inspired by this article \n",
        "https://towardsdatascience.com/multi-armed-bandits-and-reinforcement-learning-dc9001dcb8da  written by **Christian Hubbs**"
      ]
    },
    {
      "cell_type": "code",
      "metadata": {
        "id": "R7XDp8ExFKKS",
        "colab_type": "code",
        "colab": {}
      },
      "source": [
        "#libraries \n",
        "import numpy as np \n",
        "import matplotlib.pyplot as plt "
      ],
      "execution_count": 0,
      "outputs": []
    },
    {
      "cell_type": "code",
      "metadata": {
        "id": "vV5mSQ4JxLRJ",
        "colab_type": "code",
        "colab": {}
      },
      "source": [
        "class Bandit:\n",
        "  def __init__(self, k, eps, iters):\n",
        "    self.k=k\n",
        "    self.iters=iters\n",
        "    self.eps=eps\n",
        "    self.n=0 #step count\n",
        "    self.mean_reward=0\n",
        "    self.k_reward=np.zeros(k)\n",
        "    self.reward=np.zeros(iters)\n",
        "    #Step count for each arm\n",
        "    self.k_n = np.zeros(k)\n",
        "    self.lr=0.1 # learning rate \n",
        "    #We'll also define a term mu that we can use to adjust the average rewards of each of the arms.\n",
        "  def distribution(self):\n",
        "    #initialistaion of random rewards\n",
        "    dist=[]\n",
        "    for i in range(self.k):\n",
        "      dist.append(np.random.normal())\n",
        "    return dist  \n",
        "  def strategy(self):\n",
        "    dist=self.distribution()\n",
        "    if np.random.rand()<self.eps:\n",
        "      #explore\n",
        "      a=np.random.choice(self.k)\n",
        "      #dist[a]=dist[a]+self.lr*(np.random.normal()-dist[a])\n",
        "    else:\n",
        "      #take greedy actin\n",
        "      a=np.argmax(dist)\n",
        "    reward=np.random.normal(dist[a],1)  \n",
        "    #update counts :\n",
        "    self.n+=1\n",
        "    self.k_n[a] += 1\n",
        "    #update total mean\n",
        "    self.mean_reward=self.mean_reward+ (reward-self.mean_reward) / self.n\n",
        "    #update mean for a single k bandit:\n",
        "    #self.k_reward[a] = self.k_reward[a] + (reward - self.k_reward[a]) / self.k_n[a]\n",
        "  def run(self):\n",
        "        for i in range(self.iters):\n",
        "            self.strategy()\n",
        "            self.reward[i] = self.mean_reward\n",
        "             #print(self.reward)\n",
        "    #return (a,dist[a])\n",
        "  def reset(self):\n",
        "        # Resets results while keeping settings\n",
        "        self.n = 0\n",
        "        self.k_n = np.zeros(k)\n",
        "        self.mean_reward = 0\n",
        "        self.reward = np.zeros(iters)\n",
        "        self.k_reward = np.zeros(k)\n",
        "  \n",
        "\n"
      ],
      "execution_count": 0,
      "outputs": []
    },
    {
      "cell_type": "code",
      "metadata": {
        "id": "-s4GF_ySNvt8",
        "colab_type": "code",
        "colab": {}
      },
      "source": [
        "b=Bandit()\n",
        "b.distribution()\n",
        "b.strategy()"
      ],
      "execution_count": 0,
      "outputs": []
    },
    {
      "cell_type": "code",
      "metadata": {
        "id": "TC3it0zON3mn",
        "colab_type": "code",
        "colab": {
          "base_uri": "https://localhost:8080/",
          "height": 515
        },
        "outputId": "4373f7bf-cd3e-4641-8182-c71e3d4cf0bc"
      },
      "source": [
        "k = 10\n",
        "iters = 100\n",
        "\n",
        "eps_0_rewards = np.zeros(iters)\n",
        "eps_01_rewards = np.zeros(iters)\n",
        "eps_1_rewards = np.zeros(iters)\n",
        "\n",
        "episodes = 2000\n",
        "# Run experiments\n",
        "for i in range(episodes):\n",
        "    # Initialize bandits\n",
        "    eps_0 = Bandit(k, 0, iters)\n",
        "    eps_01 = Bandit(k, 0.01, iters)\n",
        "    eps_1 = Bandit(k, 0.1, iters)\n",
        "    \n",
        "    # Run experiments\n",
        "    eps_0.run()\n",
        "    eps_01.run()\n",
        "    eps_1.run()\n",
        "    \n",
        "    # Update long-term averages\n",
        "    eps_0_rewards = eps_0_rewards + (eps_0.reward - eps_0_rewards) / (i + 1)\n",
        "    eps_01_rewards = eps_01_rewards + (eps_01.reward - eps_01_rewards) / (i + 1)\n",
        "    eps_1_rewards = eps_1_rewards + (eps_1.reward - eps_1_rewards) / (i + 1)\n",
        "    \n",
        "plt.figure(figsize=(12,8))\n",
        "plt.plot(eps_0_rewards, label=\"$\\epsilon=0$ (greedy)\")\n",
        "plt.plot(eps_01_rewards, label=\"$\\epsilon=0.01$\")\n",
        "plt.plot(eps_1_rewards, label=\"$\\epsilon=0.1$\")\n",
        "plt.legend(bbox_to_anchor=(1.3, 0.5))\n",
        "plt.xlabel(\"Iterations\")\n",
        "plt.ylabel(\"Average Reward\")\n",
        "plt.title(\"Average $\\epsilon-greedy$ Rewards after \" + str(episodes) \n",
        "    + \" Episodes\")\n",
        "plt.show()"
      ],
      "execution_count": 48,
      "outputs": [
        {
          "output_type": "display_data",
          "data": {
            "image/png": "[encoded data removed]",
            "text/plain": [
              "<Figure size 864x576 with 1 Axes>"
            ]
          },
          "metadata": {
            "tags": []
          }
        }
      ]
    },
    {
      "cell_type": "code",
      "metadata": {
        "id": "yX8t2F2A_ZpX",
        "colab_type": "code",
        "colab": {
          "base_uri": "https://localhost:8080/",
          "height": 316
        },
        "outputId": "dcbd87b4-a8b9-4da1-ef65-99ed0f70293b"
      },
      "source": [
        "print(eps_0_rewards)\n"
      ],
      "execution_count": 46,
      "outputs": [
        {
          "output_type": "stream",
          "text": [
            "[1.54800548 1.57150753 1.54342771 1.52725177 1.52228899 1.52458315\n",
            " 1.53665175 1.53570409 1.53743618 1.54404738 1.54406004 1.54298035\n",
            " 1.53412002 1.53289988 1.53237931 1.5293941  1.52901044 1.52873637\n",
            " 1.52801861 1.52881598 1.52767146 1.52858015 1.53170823 1.533313\n",
            " 1.53064157 1.5307091  1.52959578 1.53036096 1.52922871 1.53068248\n",
            " 1.53135421 1.53244927 1.53319306 1.53462705 1.53437765 1.53478268\n",
            " 1.53545123 1.53585271 1.53620985 1.5358944  1.53588786 1.53623887\n",
            " 1.53490236 1.53590439 1.53463973 1.53634138 1.53616832 1.53595898\n",
            " 1.53679239 1.53683516 1.53785601 1.53785102 1.53680978 1.53604381\n",
            " 1.53576166 1.53587173 1.53610997 1.53556026 1.53561697 1.53502244\n",
            " 1.53444534 1.53475929 1.53610202 1.5357613  1.53651308 1.53710819\n",
            " 1.53715447 1.53685255 1.53742616 1.53825843 1.53854619 1.53747806\n",
            " 1.53792964 1.53776459 1.53854898 1.53812777 1.53844438 1.53752432\n",
            " 1.53791535 1.53717639 1.53756008 1.53766855 1.53755338 1.53754518\n",
            " 1.53734128 1.53811096 1.53783105 1.53814653 1.53868649 1.53882732\n",
            " 1.53912734 1.53891437 1.53891877 1.53869552 1.53813466 1.53831502\n",
            " 1.538706   1.53945128 1.53903168 1.53871597]\n"
          ],
          "name": "stdout"
        }
      ]
    },
    {
      "cell_type": "code",
      "metadata": {
        "id": "ZqicAjVWS3ZW",
        "colab_type": "code",
        "colab": {
          "base_uri": "https://localhost:8080/",
          "height": 34
        },
        "outputId": "c415523b-d270-4a4e-a217-3f31b0f2432e"
      },
      "source": [
        "print(len(eps_0_rewards))"
      ],
      "execution_count": 47,
      "outputs": [
        {
          "output_type": "stream",
          "text": [
            "100\n"
          ],
          "name": "stdout"
        }
      ]
    },
    {
      "cell_type": "code",
      "metadata": {
        "id": "ROcnps6fS8qu",
        "colab_type": "code",
        "colab": {}
      },
      "source": [
        ""
      ],
      "execution_count": 0,
      "outputs": []
    }
  ]
}